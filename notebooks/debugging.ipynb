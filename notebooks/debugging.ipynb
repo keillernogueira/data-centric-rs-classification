{
 "cells": [
  {
   "cell_type": "markdown",
   "metadata": {},
   "source": [
    "# Debugging"
   ]
  },
  {
   "cell_type": "code",
   "execution_count": 1,
   "metadata": {},
   "outputs": [
    {
     "name": "stdout",
     "output_type": "stream",
     "text": [
      "Automatic pdb calling has been turned ON\n"
     ]
    }
   ],
   "source": [
    "%load_ext autoreload\n",
    "%autoreload 2\n",
    "%pdb on"
   ]
  },
  {
   "cell_type": "code",
   "execution_count": 2,
   "metadata": {},
   "outputs": [],
   "source": [
    "import os, sys\n",
    "from pathlib import Path\n",
    "from tqdm import tqdm\n",
    "from random import *\n",
    "from datetime import *\n",
    "\n",
    "import numpy as np\n",
    "import pandas as pd\n",
    "import matplotlib.pyplot as plt\n",
    "\n",
    "from shapely.geometry import *\n",
    "import rasterio\n",
    "import geopandas as gpd"
   ]
  },
  {
   "cell_type": "markdown",
   "metadata": {},
   "source": [
    "## Potsdam"
   ]
  },
  {
   "cell_type": "code",
   "execution_count": null,
   "metadata": {},
   "outputs": [],
   "source": [
    "store = Path(\"/home/akramzaytar/ssdprivate/akramz_datasets/wtl\")\n",
    "assert store.exists()"
   ]
  },
  {
   "cell_type": "code",
   "execution_count": null,
   "metadata": {},
   "outputs": [],
   "source": [
    "data_store = store / \"vaihingen\"\n",
    "assert data_store.exists()"
   ]
  },
  {
   "cell_type": "code",
   "execution_count": null,
   "metadata": {},
   "outputs": [],
   "source": [
    "imgs_dir = data_store / \"train\"\n",
    "imgs = list(imgs_dir.glob(\"*.tif\"))\n",
    "len(imgs)"
   ]
  },
  {
   "cell_type": "markdown",
   "metadata": {},
   "source": [
    "In our case, we have the following bands:\n",
    "- RGB (3)\n",
    "- NIR (1)\n",
    "- DSM (1)\n",
    "- Mask (1)"
   ]
  },
  {
   "cell_type": "code",
   "execution_count": null,
   "metadata": {},
   "outputs": [],
   "source": [
    "# load a random image\n",
    "img = imgs[randint(0, len(imgs))]\n",
    "\n",
    "# Set the number of images that you want to plot\n",
    "N = 10\n",
    "\n",
    "# Init the figure\n",
    "fig, axes = plt.subplots(N, 4, figsize=(4 * 4, N * 4))\n",
    "\n",
    "for i in range(N):\n",
    "\n",
    "    # Grab the axs\n",
    "    axs = axes[i]\n",
    "\n",
    "    # Grab the image\n",
    "    img = imgs[i + N]\n",
    "\n",
    "    # Read it using rasterio\n",
    "    with rasterio.open(img) as src:\n",
    "        img = src.read()\n",
    "        rgb = img[:3, ...] / 255.0\n",
    "        nir = img[3, ...] / 255.0\n",
    "        dsm = img[4, ...] / 255.0\n",
    "        mask = img[5, ...]\n",
    "\n",
    "    # Plot the image in a single row that shows RGB, NIR, DSM, and Mask\n",
    "    axs[0].imshow(np.moveaxis(rgb, 0, -1))\n",
    "    axs[1].imshow(nir, cmap=\"cividis\")\n",
    "    axs[2].imshow(dsm, cmap=\"coolwarm\")\n",
    "    axs[3].imshow(mask, cmap=\"Set1\", vmin=0, vmax=5)\n",
    "\n",
    "    # Add titles\n",
    "    axs[0].set_title(\"RGB\")\n",
    "    axs[1].set_title(\"NIR\")\n",
    "    axs[2].set_title(\"DSM\")\n",
    "    axs[3].set_title(\"Mask\")\n",
    "\n",
    "    # Remove axis\n",
    "    for ax in axs:\n",
    "        ax.axis(\"off\")\n",
    "\n",
    "plt.show()"
   ]
  },
  {
   "cell_type": "markdown",
   "metadata": {},
   "source": [
    "## Vaihingen"
   ]
  },
  {
   "cell_type": "code",
   "execution_count": null,
   "metadata": {},
   "outputs": [],
   "source": [
    "store = Path(\"/home/akramzaytar/ssdprivate/akramz_datasets/wtl\")\n",
    "assert store.exists()"
   ]
  },
  {
   "cell_type": "code",
   "execution_count": null,
   "metadata": {},
   "outputs": [],
   "source": [
    "data_store = store / \"vaihingen\"\n",
    "assert data_store.exists()"
   ]
  },
  {
   "cell_type": "code",
   "execution_count": null,
   "metadata": {},
   "outputs": [],
   "source": [
    "imgs_dir = data_store / \"test\"\n",
    "imgs = list(imgs_dir.glob(\"*.tif\"))\n",
    "len(imgs)"
   ]
  },
  {
   "cell_type": "markdown",
   "metadata": {},
   "source": [
    "In our case, we have the following bands:\n",
    "- NIR-GB (3)\n",
    "- DSM (1)\n",
    "- Mask (1)"
   ]
  },
  {
   "cell_type": "code",
   "execution_count": null,
   "metadata": {},
   "outputs": [],
   "source": [
    "# load a random image\n",
    "img = imgs[randint(0, len(imgs))]\n",
    "\n",
    "# Set the number of images that you want to plot\n",
    "N = 5\n",
    "\n",
    "# Init the figure\n",
    "fig, axes = plt.subplots(N, 3, figsize=(4 * 4, N * 4))\n",
    "\n",
    "for i in range(N):\n",
    "\n",
    "    # Grab the axs\n",
    "    axs = axes[i]\n",
    "\n",
    "    # Grab the image\n",
    "    img = imgs[i + N]\n",
    "\n",
    "    # Read it using rasterio\n",
    "    with rasterio.open(img) as src:\n",
    "        img = src.read()\n",
    "        rgb = img[:3, ...] / 255.0\n",
    "        dsm = img[3, ...] / 255.0\n",
    "        mask = img[4, ...]\n",
    "\n",
    "    # Plot the image in a single row that shows RGB, NIR, DSM, and Mask\n",
    "    axs[0].imshow(np.moveaxis(rgb, 0, -1))\n",
    "    axs[1].imshow(dsm, cmap=\"coolwarm\")\n",
    "    axs[2].imshow(mask, cmap=\"Set1\", vmin=0, vmax=5)\n",
    "\n",
    "    # Add titles\n",
    "    axs[0].set_title(\"RGB\")\n",
    "    axs[1].set_title(\"DSM\")\n",
    "    axs[2].set_title(\"Mask\")\n",
    "\n",
    "    # Remove axis\n",
    "    for ax in axs:\n",
    "        ax.axis(\"off\")\n",
    "\n",
    "plt.show()"
   ]
  },
  {
   "cell_type": "markdown",
   "metadata": {},
   "source": [
    "## DFC-22"
   ]
  },
  {
   "cell_type": "code",
   "execution_count": null,
   "metadata": {},
   "outputs": [],
   "source": [
    "store = Path(\"/home/akramzaytar/ssdprivate/akramz_datasets/wtl\")\n",
    "assert store.exists()"
   ]
  },
  {
   "cell_type": "code",
   "execution_count": null,
   "metadata": {},
   "outputs": [],
   "source": [
    "data_store = store / \"dfc22\"\n",
    "assert data_store.exists()"
   ]
  },
  {
   "cell_type": "code",
   "execution_count": null,
   "metadata": {},
   "outputs": [],
   "source": [
    "imgs_dir = data_store / \"test\"\n",
    "imgs = list(imgs_dir.glob(\"*.tif\"))\n",
    "len(imgs)"
   ]
  },
  {
   "cell_type": "markdown",
   "metadata": {},
   "source": [
    "In our case, we have the following bands:\n",
    "- NIR-GB (3)\n",
    "- DSM (1)\n",
    "- Mask (1)"
   ]
  },
  {
   "cell_type": "code",
   "execution_count": null,
   "metadata": {},
   "outputs": [],
   "source": [
    "# Set the number of images that you want to plot\n",
    "N = 5\n",
    "\n",
    "# Init the figure\n",
    "fig, axes = plt.subplots(N, 3, figsize=(4 * 4, N * 4))\n",
    "\n",
    "for i in range(N):\n",
    "\n",
    "    # Grab the axs\n",
    "    axs = axes[i]\n",
    "\n",
    "    # Grab the image\n",
    "    img = choice(imgs)\n",
    "\n",
    "    # Read it using rasterio\n",
    "    with rasterio.open(img) as src:\n",
    "        img = src.read()\n",
    "        rgb = img[:3, ...] / 255.0\n",
    "        dsm = img[3, ...] / 255.0\n",
    "        mask = img[4, ...]\n",
    "\n",
    "    # Plot the image in a single row that shows RGB, NIR, DSM, and Mask\n",
    "    axs[0].imshow(np.moveaxis(rgb, 0, -1))\n",
    "    axs[1].imshow(dsm, cmap=\"coolwarm\")\n",
    "    axs[2].imshow(mask, cmap=\"tab20\", vmin=0, vmax=16)\n",
    "\n",
    "    # Add titles\n",
    "    axs[0].set_title(\"RGB\")\n",
    "    axs[1].set_title(\"DSM\")\n",
    "    axs[2].set_title(\"Mask\")\n",
    "\n",
    "    # Remove axis\n",
    "    for ax in axs:\n",
    "        ax.axis(\"off\")\n",
    "\n",
    "plt.show()"
   ]
  },
  {
   "cell_type": "markdown",
   "metadata": {},
   "source": [
    "---\n",
    "\n",
    "# Training\n",
    "\n",
    "We want to make sure the batches are loading correctly."
   ]
  },
  {
   "cell_type": "markdown",
   "metadata": {},
   "source": [
    "I have changed the data set class to allow for txt files to be passed, let's test the data loader:"
   ]
  },
  {
   "cell_type": "code",
   "execution_count": null,
   "metadata": {},
   "outputs": [],
   "source": [
    "from omegaconf import OmegaConf\n",
    "\n",
    "\n",
    "dataset = \"vaihingen\"\n",
    "method_name = \"vendi_clustering_resnet\"\n",
    "gpu = 0\n",
    "scores_file_path = \"/home/akramzaytar/ssdshared/akramz_datasets/wtl/submissions/vaihingen/complexity.txt\"\n",
    "config_file_path = \"../config.yaml\"\n",
    "\n",
    "config = OmegaConf.load(config_file_path)\n",
    "config[\"evaluation\"][\"method_name\"] = method_name\n",
    "config[\"evaluation\"][\"scores_file\"] = Path(scores_file_path)\n",
    "config[\"trainer\"][\"devices\"] = [gpu] if gpu >= 0 else -1\n",
    "config[\"datamodule\"][\"root\"] = Path(config[\"datamodule\"][\"root\"]) / dataset\n",
    "config[\"datamodule\"][\"dataset\"] = dataset\n",
    "\n",
    "# Set the number of channels by dataset\n",
    "if dataset == \"vaihingen\":\n",
    "    config[\"learning\"][\"in_channels\"] = 4\n",
    "    config[\"learning\"][\"ignore_index\"] = -1\n",
    "    config[\"learning\"][\"num_classes\"] = 6\n",
    "elif dataset == \"potsdam\":\n",
    "    config[\"learning\"][\"in_channels\"] = 5\n",
    "    config[\"learning\"][\"ignore_index\"] = -1\n",
    "    config[\"learning\"][\"num_classes\"] = 6\n",
    "elif dataset == \"dfc22\":\n",
    "    config[\"learning\"][\"in_channels\"] = 4\n",
    "    config[\"learning\"][\"ignore_index\"] = 0\n",
    "    config[\"learning\"][\"num_classes\"] = 16\n",
    "else:\n",
    "    raise ValueError(\"Unknown dataset\")"
   ]
  },
  {
   "cell_type": "code",
   "execution_count": null,
   "metadata": {},
   "outputs": [],
   "source": [
    "# Set the sizes according to how many rows are in the dataset\n",
    "evaluation_percentages = config[\"evaluation\"][\"sizes\"]\n",
    "scores = pd.read_csv(scores_file_path, sep=\" \", header=None)\n",
    "n_samples = len(scores)\n",
    "\n",
    "# Set the sizes according to how many rows are in the dataset\n",
    "config[\"evaluation\"][\"sizes\"] = [\n",
    "    int(n_samples * percentage) for percentage in evaluation_percentages\n",
    "]"
   ]
  },
  {
   "cell_type": "code",
   "execution_count": null,
   "metadata": {},
   "outputs": [],
   "source": [
    "# Get the name of the dataset\n",
    "from mveo_benchmarks.datamodule import (\n",
    "    DFC2022DataModule,\n",
    "    PotsdamDataModule,\n",
    "    VaihingenDataModule,\n",
    ")\n",
    "\n",
    "dataset = config[\"datamodule\"][\"dataset\"]\n",
    "\n",
    "# Depending on the name, create the data module object\n",
    "if dataset == \"dfc22\":\n",
    "    dm = DFC2022DataModule\n",
    "elif dataset == \"potsdam\":\n",
    "    dm = PotsdamDataModule\n",
    "elif dataset == \"vaihingen\":\n",
    "    dm = VaihingenDataModule\n",
    "else:\n",
    "    raise ValueError(\"Unknown dataset\")"
   ]
  },
  {
   "cell_type": "code",
   "execution_count": null,
   "metadata": {},
   "outputs": [],
   "source": [
    "# Initialize a dictionary to hold scores for each size\n",
    "scores = {}\n",
    "\n",
    "# Iterate over the top fraction of scored samples\n",
    "for sample_size in config[\"evaluation\"][\"sizes\"]:\n",
    "    # Initialize list to store scores for this sample size\n",
    "    scores[sample_size] = []\n",
    "\n",
    "    # Perform multiple runs for each sample size\n",
    "    for run in range(config[\"evaluation\"][\"runs\"]):\n",
    "\n",
    "        # Train!\n",
    "        datamodule = dm(\n",
    "            **config.datamodule,\n",
    "            train_size=sample_size,\n",
    "            train_scores_file=config[\"evaluation\"][\"scores_file\"],\n",
    "        )\n",
    "\n",
    "        break\n",
    "    break"
   ]
  },
  {
   "cell_type": "code",
   "execution_count": null,
   "metadata": {},
   "outputs": [],
   "source": [
    "# Setup the data module\n",
    "datamodule.setup()"
   ]
  },
  {
   "cell_type": "code",
   "execution_count": null,
   "metadata": {},
   "outputs": [],
   "source": [
    "# Get the training data loader\n",
    "train_loader = datamodule.train_dataloader()"
   ]
  },
  {
   "cell_type": "code",
   "execution_count": null,
   "metadata": {},
   "outputs": [],
   "source": [
    "# Get a single batch\n",
    "batch = next(iter(train_loader))"
   ]
  },
  {
   "cell_type": "code",
   "execution_count": null,
   "metadata": {},
   "outputs": [],
   "source": [
    "batch[\"image\"].min(), batch[\"image\"].max()"
   ]
  },
  {
   "cell_type": "markdown",
   "metadata": {},
   "source": [
    "---"
   ]
  }
 ],
 "metadata": {
  "kernelspec": {
   "display_name": "mveo",
   "language": "python",
   "name": "python3"
  },
  "language_info": {
   "codemirror_mode": {
    "name": "ipython",
    "version": 3
   },
   "file_extension": ".py",
   "mimetype": "text/x-python",
   "name": "python",
   "nbconvert_exporter": "python",
   "pygments_lexer": "ipython3",
   "version": "3.12.3"
  }
 },
 "nbformat": 4,
 "nbformat_minor": 2
}
